{
 "cells": [
  {
   "cell_type": "markdown",
   "metadata": {},
   "source": [
    "# Bot Scrapper\n",
    "\n",
    "This is a bot scrapper that downloads images from google images and saves them in a folder.\n"
   ]
  },
  {
   "cell_type": "code",
   "execution_count": null,
   "metadata": {},
   "outputs": [],
   "source": [
    "search_string = '\"mine field\" -urban -city'\n",
    "folder_path = \"./dataSet/MineField/\""
   ]
  },
  {
   "cell_type": "markdown",
   "metadata": {},
   "source": [
    "<span style=\"color:red\">Don't change the code below.</span>\n"
   ]
  },
  {
   "cell_type": "code",
   "execution_count": null,
   "metadata": {},
   "outputs": [],
   "source": [
    "%pip install selenium urllib3"
   ]
  },
  {
   "cell_type": "code",
   "execution_count": null,
   "metadata": {},
   "outputs": [],
   "source": [
    "from __future__ import annotations  # noqa: F404\n",
    "\n",
    "import os\n",
    "import ssl\n",
    "import time\n",
    "\n",
    "import urllib3\n",
    "from selenium import webdriver\n",
    "from selenium.webdriver.common.by import By\n",
    "from selenium.webdriver.support import expected_conditions as ec\n",
    "from selenium.webdriver.support.ui import WebDriverWait\n",
    "\n",
    "iter = 0"
   ]
  },
  {
   "cell_type": "code",
   "execution_count": null,
   "metadata": {},
   "outputs": [],
   "source": [
    "def create_nested_folder(folder_path: str) -> None:\n",
    "    folder_path = folder_path.rstrip(\"/\").rstrip(\"\\\\\")\n",
    "    folders = folder_path.split(os.sep)\n",
    "\n",
    "    path = \".\"\n",
    "    for folder in folders:\n",
    "        path = os.path.join(path, folder)\n",
    "        if not os.path.exists(path):\n",
    "            os.mkdir(path)"
   ]
  },
  {
   "cell_type": "code",
   "execution_count": null,
   "metadata": {},
   "outputs": [],
   "source": [
    "def download_image(image_element) -> None:\n",
    "    global iter\n",
    "    global folder_path\n",
    "    try:\n",
    "        create_nested_folder(folder_path)\n",
    "\n",
    "        http = urllib3.PoolManager(cert_reqs=\"CERT_NONE\")\n",
    "        response = http.request(\n",
    "            \"GET\", image_element[0].get_attribute(\"src\"), preload_content=False\n",
    "        )\n",
    "        with open(f\"{folder_path}/{iter}.jpg\", \"wb\") as out_file:\n",
    "            out_file.write(response.data)\n",
    "        response.release_conn()\n",
    "        iter += 1\n",
    "    except Exception as e:\n",
    "        print(e)\n",
    "        pass"
   ]
  },
  {
   "cell_type": "code",
   "execution_count": null,
   "metadata": {},
   "outputs": [],
   "source": [
    "class Driver:\n",
    "    def __init__(self: Driver) -> None:\n",
    "        options = webdriver.ChromeOptions()\n",
    "        options.add_argument(\"--remote-debugging-port=8000\")\n",
    "        self.driver = webdriver.Chrome()  # options.add_argument(\"--headless\")\n",
    "        self.wait = WebDriverWait(self.driver, 10)\n",
    "        # self.driver.maximize_window()\n",
    "        self.driver.set_window_size(1920, 1080)\n",
    "        self.driver.get(\"https://www.google.com/\")\n",
    "\n",
    "    def setup(self: Driver) -> None:\n",
    "        self.cookie_validator()\n",
    "\n",
    "    def cookie_validator(self: Driver) -> None:\n",
    "        self.wait.until(\n",
    "            ec.presence_of_element_located((By.CSS_SELECTOR, \"#L2AGLb > div\")),\n",
    "        )\n",
    "        Driver.driver.find_element(By.CSS_SELECTOR, \"#L2AGLb > div\").click()\n",
    "\n",
    "    def search(self: Driver, search_string: str) -> None:\n",
    "        self.driver.get(\n",
    "            f\"https://www.google.com/search?q={search_string}&tbm=isch\",\n",
    "        )\n",
    "\n",
    "    def get_images(self: Driver) -> list:\n",
    "        return self.driver.find_elements(\n",
    "            By.XPATH,\n",
    "            '//*[@id=\"islrg\"]/div[1]/div/a[1]/div/img',\n",
    "        )"
   ]
  },
  {
   "cell_type": "code",
   "execution_count": null,
   "metadata": {},
   "outputs": [],
   "source": [
    "class Item:\n",
    "    def __init__(self: Item, url: str, driver: Driver) -> None:\n",
    "        self.url = url\n",
    "        self.Driver = driver\n",
    "\n",
    "    def get_children(self: Item) -> list:\n",
    "        return Driver.driver.find_elements(\n",
    "            By.XPATH,\n",
    "            '//*[@id=\"Sva75c\"]/div[2]/div[2]/div[2]/div[2]/c-wiz/div/div/div/div/c-wiz/div/div/div/div[1]/div[3]/div/div/a[1]/div[1]/img',\n",
    "        )\n",
    "\n",
    "    def download(self, image_element: list) -> None:\n",
    "        image_element[0].click()\n",
    "        global folder_path\n",
    "        global iter\n",
    "        try:\n",
    "            create_nested_folder(folder_path)\n",
    "\n",
    "            http = urllib3.PoolManager(cert_reqs=\"CERT_NONE\")\n",
    "            response = http.request(\n",
    "                \"GET\",\n",
    "                image_element[0].get_attribute(\"src\"),\n",
    "                preload_content=False,\n",
    "            )\n",
    "            with open(f\"{folder_path}/{iter}-fille.jpg\", \"wb\") as out_file:\n",
    "                out_file.write(response.data)\n",
    "            response.release_conn()\n",
    "            iter += 1\n",
    "        except Exception as e:\n",
    "            print(e)\n",
    "            pass\n",
    "\n",
    "        self.driver.execute_script(\"window.history.go(-1)\")"
   ]
  },
  {
   "cell_type": "code",
   "execution_count": null,
   "metadata": {},
   "outputs": [],
   "source": [
    "Driver = Driver()\n",
    "Driver.setup()\n",
    "Driver.search(search_string)\n",
    "images = Driver.get_images()"
   ]
  },
  {
   "cell_type": "code",
   "execution_count": null,
   "metadata": {},
   "outputs": [],
   "source": [
    "ctx = ssl.create_default_context()\n",
    "ctx.check_hostname = False\n",
    "ctx.verify_mode = ssl.CERT_NONE\n",
    "\n",
    "\n",
    "def find_elements(xpath):\n",
    "    return WebDriverWait(Driver.driver, 10).until(\n",
    "        ec.presence_of_all_elements_located((By.XPATH, xpath))\n",
    "    )\n",
    "\n",
    "\n",
    "for index, image in enumerate(images):\n",
    "    try:\n",
    "        image.click()\n",
    "\n",
    "        main_image_xpath = '//*[@id=\"Sva75c\"]/div[2]/div[2]/div[2]/div[2]/c-wiz/div/div/div/div/div[3]/div[1]/a/img[1]'\n",
    "        main_image_element = find_elements(main_image_xpath)\n",
    "        print(main_image_element[0].get_attribute(\"src\"))\n",
    "        download_image(main_image_element)\n",
    "        children_xpath = '//*[@id=\"Sva75c\"]/div[2]/div[2]/div[2]/div[2]/c-wiz/div/div/div/div/c-wiz/div/div/div/div[1]/div[3]/div/div/a[1]/div[1]/img'\n",
    "        children = find_elements(children_xpath)\n",
    "        print(f\"Found {len(children)} child images\")\n",
    "        time.sleep(1)\n",
    "\n",
    "        for child_id, child in enumerate(children):\n",
    "            try:\n",
    "                children = find_elements(children_xpath)\n",
    "                child = children[child_id]\n",
    "                child.click()\n",
    "                print(f\"Found {len(children)} child images\")\n",
    "                time.sleep(1)\n",
    "                child_image_xpath = '//*[@id=\"Sva75c\"]/div[2]/div[2]/div[2]/div[2]/c-wiz/div/div/div/div/div[3]/div[1]/a/img[1]'\n",
    "                child_image_element = find_elements(main_image_xpath)\n",
    "                print(child_image_element[0].get_attribute(\"src\"))\n",
    "                download_image(child_image_element)\n",
    "                Driver.driver.execute_script(\"window.history.go(-1)\")\n",
    "            except Exception as e:\n",
    "                print(f\"Error processing child image {child_id}: {e}\")\n",
    "    except Exception as e:\n",
    "        print(f\"Error processing main image {index}: {e}\")"
   ]
  }
 ],
 "metadata": {
  "kernelspec": {
   "display_name": "Python 3",
   "language": "python",
   "name": "python3"
  },
  "language_info": {
   "codemirror_mode": {
    "name": "ipython",
    "version": 3
   },
   "file_extension": ".py",
   "mimetype": "text/x-python",
   "name": "python",
   "nbconvert_exporter": "python",
   "pygments_lexer": "ipython3",
   "version": "3.11.2"
  }
 },
 "nbformat": 4,
 "nbformat_minor": 2
}
